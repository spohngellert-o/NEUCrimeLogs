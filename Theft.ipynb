{
 "cells": [
  {
   "cell_type": "code",
   "execution_count": 8,
   "metadata": {},
   "outputs": [],
   "source": [
    "import pandas as pd\n",
    "import matplotlib.pyplot as plt\n",
    "from pylab import rcParams\n",
    "rcParams['figure.figsize'] = 14, 5\n",
    "plt.style.use(\"ggplot\")"
   ]
  },
  {
   "cell_type": "code",
   "execution_count": 9,
   "metadata": {},
   "outputs": [],
   "source": [
    "dataf = pd.read_csv(\"crime_logs.csv\", index_col=0)"
   ]
  },
  {
   "cell_type": "code",
   "execution_count": 10,
   "metadata": {},
   "outputs": [
    {
     "data": {
      "text/html": [
       "<div>\n",
       "<style scoped>\n",
       "    .dataframe tbody tr th:only-of-type {\n",
       "        vertical-align: middle;\n",
       "    }\n",
       "\n",
       "    .dataframe tbody tr th {\n",
       "        vertical-align: top;\n",
       "    }\n",
       "\n",
       "    .dataframe thead th {\n",
       "        text-align: right;\n",
       "    }\n",
       "</style>\n",
       "<table border=\"1\" class=\"dataframe\">\n",
       "  <thead>\n",
       "    <tr style=\"text-align: right;\">\n",
       "      <th></th>\n",
       "      <th>log</th>\n",
       "      <th>date</th>\n",
       "      <th>year</th>\n",
       "    </tr>\n",
       "  </thead>\n",
       "  <tbody>\n",
       "    <tr>\n",
       "      <td>0</td>\n",
       "      <td>An NU staff member reported her personal and N...</td>\n",
       "      <td>2020-02-24 10:28:00</td>\n",
       "      <td>2020</td>\n",
       "    </tr>\n",
       "    <tr>\n",
       "      <td>1</td>\n",
       "      <td>An officer reported placing an NU student unde...</td>\n",
       "      <td>2020-02-24 13:22:00</td>\n",
       "      <td>2020</td>\n",
       "    </tr>\n",
       "    <tr>\n",
       "      <td>2</td>\n",
       "      <td>An NU student reported his unattended laptop w...</td>\n",
       "      <td>2020-02-26 10:19:00</td>\n",
       "      <td>2020</td>\n",
       "    </tr>\n",
       "    <tr>\n",
       "      <td>3</td>\n",
       "      <td>An NU student reported a fight inside West Vil...</td>\n",
       "      <td>2020-02-26 02:51:00</td>\n",
       "      <td>2020</td>\n",
       "    </tr>\n",
       "    <tr>\n",
       "      <td>4</td>\n",
       "      <td>An NU student reported her unattended iPad was...</td>\n",
       "      <td>2020-02-27 13:08:00</td>\n",
       "      <td>2020</td>\n",
       "    </tr>\n",
       "    <tr>\n",
       "      <td>...</td>\n",
       "      <td>...</td>\n",
       "      <td>...</td>\n",
       "      <td>...</td>\n",
       "    </tr>\n",
       "    <tr>\n",
       "      <td>9024</td>\n",
       "      <td>2:30 a.m. A 17-year-old female student and res...</td>\n",
       "      <td>2002-11-03 02:30:00</td>\n",
       "      <td>2002</td>\n",
       "    </tr>\n",
       "    <tr>\n",
       "      <td>9025</td>\n",
       "      <td>Monday, Nov. 4 9 a.m. A 32-year-old male stude...</td>\n",
       "      <td>2002-11-04 09:00:00</td>\n",
       "      <td>2002</td>\n",
       "    </tr>\n",
       "    <tr>\n",
       "      <td>9026</td>\n",
       "      <td>Building Services reported a red 10-foot by fo...</td>\n",
       "      <td>2002-11-04 09:00:00</td>\n",
       "      <td>2002</td>\n",
       "    </tr>\n",
       "    <tr>\n",
       "      <td>9027</td>\n",
       "      <td>Noon The manager of Wollaston’s, at the Marino...</td>\n",
       "      <td>2002-11-04 09:00:00</td>\n",
       "      <td>2002</td>\n",
       "    </tr>\n",
       "    <tr>\n",
       "      <td>9028</td>\n",
       "      <td>7 p.m. Vandalism was reported on the third flo...</td>\n",
       "      <td>2002-11-04 19:00:00</td>\n",
       "      <td>2002</td>\n",
       "    </tr>\n",
       "  </tbody>\n",
       "</table>\n",
       "<p>9029 rows × 3 columns</p>\n",
       "</div>"
      ],
      "text/plain": [
       "                                                    log                 date  \\\n",
       "0     An NU staff member reported her personal and N...  2020-02-24 10:28:00   \n",
       "1     An officer reported placing an NU student unde...  2020-02-24 13:22:00   \n",
       "2     An NU student reported his unattended laptop w...  2020-02-26 10:19:00   \n",
       "3     An NU student reported a fight inside West Vil...  2020-02-26 02:51:00   \n",
       "4     An NU student reported her unattended iPad was...  2020-02-27 13:08:00   \n",
       "...                                                 ...                  ...   \n",
       "9024  2:30 a.m. A 17-year-old female student and res...  2002-11-03 02:30:00   \n",
       "9025  Monday, Nov. 4 9 a.m. A 32-year-old male stude...  2002-11-04 09:00:00   \n",
       "9026  Building Services reported a red 10-foot by fo...  2002-11-04 09:00:00   \n",
       "9027  Noon The manager of Wollaston’s, at the Marino...  2002-11-04 09:00:00   \n",
       "9028  7 p.m. Vandalism was reported on the third flo...  2002-11-04 19:00:00   \n",
       "\n",
       "      year  \n",
       "0     2020  \n",
       "1     2020  \n",
       "2     2020  \n",
       "3     2020  \n",
       "4     2020  \n",
       "...    ...  \n",
       "9024  2002  \n",
       "9025  2002  \n",
       "9026  2002  \n",
       "9027  2002  \n",
       "9028  2002  \n",
       "\n",
       "[9029 rows x 3 columns]"
      ]
     },
     "execution_count": 10,
     "metadata": {},
     "output_type": "execute_result"
    }
   ],
   "source": [
    "dataf"
   ]
  },
  {
   "cell_type": "code",
   "execution_count": 11,
   "metadata": {},
   "outputs": [],
   "source": [
    "dataf['bike'] = dataf['log'].str.lower().str.contains(\" bike\") | dataf['log'].str.lower().str.contains(\" bicycle\")"
   ]
  },
  {
   "cell_type": "code",
   "execution_count": 29,
   "metadata": {},
   "outputs": [
    {
     "name": "stdout",
     "output_type": "stream",
     "text": [
      "{2019: 104, 2011: 75, 2013: 68, 2018: 51, 2010: 49, 2016: 41, 2007: 39, 2005: 38, 2006: 35, 2004: 23, 2017: 23, 2014: 22, 2012: 22, 2009: 22, 2008: 21, 2003: 17, 2020: 8, 2015: 1, 2002: 1}\n"
     ]
    },
    {
     "data": {
      "image/png": "[encoded data removed]",
      "text/plain": [
       "<Figure size 1008x360 with 1 Axes>"
      ]
     },
     "metadata": {},
     "output_type": "display_data"
    }
   ],
   "source": [
    "total_thefts = dataf[dataf['bike']].year.value_counts().to_dict()\n",
    "print(total_thefts)\n",
    "plt.bar(total_thefts.keys(), total_thefts.values())\n",
    "plt.xticks(range(2002, 2021))\n",
    "plt.title(\"Total bike thefts annually.\")\n",
    "plt.ylabel(\"Bike thefts\")\n",
    "plt.xlabel(\"Year\")\n",
    "plt.savefig(\"total_thefts.jpg\")"
   ]
  },
  {
   "cell_type": "code",
   "execution_count": 30,
   "metadata": {},
   "outputs": [
    {
     "name": "stdout",
     "output_type": "stream",
     "text": [
      "{2019: 16.224648985959437, 2011: 8.640552995391705, 2013: 8.994708994708995, 2018: 14.166666666666666, 2010: 8.73440285204991, 2016: 5.890804597701149, 2007: 8.423326133909287, 2005: 6.822262118491921, 2006: 6.317689530685921, 2004: 5.122494432071269, 2017: 5.4245283018867925, 2014: 9.401709401709402, 2012: 3.1294452347083928, 2009: 7.4576271186440675, 2008: 7.446808510638298, 2003: 1.9517795637198623, 2020: 7.4766355140186915, 2015: 1.1494252873563218, 2002: 0.8264462809917356}\n"
     ]
    },
    {
     "data": {
      "image/png": "[encoded data removed]",
      "text/plain": [
       "<Figure size 1008x360 with 1 Axes>"
      ]
     },
     "metadata": {},
     "output_type": "display_data"
    }
   ],
   "source": [
    "prop_thefts = {year: (total_thefts[year] * 100) / len(dataf[dataf['year'] == year]) for year in total_thefts}\n",
    "print(prop_thefts)\n",
    "plt.bar(prop_thefts.keys(), prop_thefts.values())\n",
    "plt.xticks(range(2002, 2021))\n",
    "plt.title(\"Percent of crimes reported that were bike thefts annually.\")\n",
    "plt.ylabel(\"Bike theft %\")\n",
    "plt.xlabel(\"Year\")\n",
    "plt.savefig(\"proportion_thefts.jpg\")"
   ]
  },
  {
   "cell_type": "code",
   "execution_count": 28,
   "metadata": {},
   "outputs": [
    {
     "data": {
      "text/plain": [
       "590"
      ]
     },
     "execution_count": 28,
     "metadata": {},
     "output_type": "execute_result"
    }
   ],
   "source": [
    "(dataf.log.str.contains(\"marijuana\")).sum()"
   ]
  },
  {
   "cell_type": "code",
   "execution_count": 26,
   "metadata": {},
   "outputs": [
    {
     "name": "stdout",
     "output_type": "stream",
     "text": [
      "An NU student reported someone attempting to steal a bike from the racks outside International Village. Officers recovered a rod and rock used by the thief, but checked for the suspect with negative results. A report was filed.\n",
      "----------\n",
      "An NU student reported that one of his bike tires was stolen from the bike racks outside of Hayden Hall. A report was filed. \n",
      "----------\n",
      "An NU student reported his bike was stolen from the front of ISEC sometime between Jan. 31 and Feb. 4. A report was filed. \n",
      "----------\n",
      "An NU student reported that his bike was stolen from outside West Village G on Jan. 21. A report was filed. \n",
      "----------\n",
      "An NU student reported his bike was stolen from Robinson Quad. A report was filed.\n",
      "----------\n",
      "An NU staff member reported observing a man unaffiliated with NU stealing a bike from outside Behrakis Hall. Officers responded and placed the man under arrest for larceny. A report was filed.\n",
      "----------\n",
      "A man unaffiliated with NU reported his bike was stolen from the racks in front of the Interdisciplinary Science and Engineering Complex, or ISEC. A report was filed. \n",
      "----------\n",
      "An NU student reported observing a man trying to break the bike locks outside of Snell Library. Officers reported the suspect rode off with one stolen bike, heading toward Huntington Avenue. Officers checked the area with negative results. A report was filed. \n",
      "----------\n",
      "An officer reported observing a man unaffiliated with NU pushing a mountain bike while dragging a white suitcase in the alley behind St. Stephen Street. Officers responded and reported placing the man under arrest for a prior warrant. A report was filed.\n",
      "----------\n",
      "An NU student reported his bike was stolen from the entranceway of 170 St. Alphonsus St. A report was filed.\n",
      "----------\n",
      "An NU student reported that his bike was stolen from outside Hayden Hall. A report was filed.\n",
      "----------\n",
      "An NU staff member reported a bike was stolen from outside the daycare in White Hall. A report was filed.\n",
      "----------\n",
      "An NU student reported his mountain bike was stolen from outside International Village, or IV. A report was filed.\n",
      "----------\n",
      "An NU student reported his bike was stolen from the front stairs of 157 Hemenway St. A report was filed.\n",
      "----------\n",
      "An NU student reported his unsecured bike was stolen from outside Mugar Hall. A report was filed.\n",
      "----------\n",
      "A woman unaffiliated with NU reported her bike was stolen from the rack in the North Lot. A report was filed.\n",
      "----------\n",
      "An NU student reported his bike was stolen from the racks in front of the Behrakis Center. A report was filed.\n",
      "----------\n",
      "A facilities employee reported observing a man unaffiliated with NU in Speare Place stealing bike parts. Officers responded and reported the man had a criminal record and was found in the possession of a scooter and several tools. Officers placed the man under arrest for larceny. A report was filed.\n",
      "----------\n",
      "An NU student reported observing a man cutting a cable lock and stealing a bicycle from outside Burstein Hall. The man claimed the bike was his when confronted by the student. Officers reported the man fled the area on Huntington Avenue. A report was filed. \n",
      "----------\n",
      "An NU student reported some of his bicycle parts were stolen from the bike racks outside Snell Library. A report was filed.\n",
      "----------\n"
     ]
    }
   ],
   "source": [
    "for log in dataf[dataf.bike].log.head(20).tolist():\n",
    "    print(log)\n",
    "    print(\"----------\")"
   ]
  },
  {
   "cell_type": "code",
   "execution_count": 2,
   "metadata": {},
   "outputs": [
    {
     "data": {
      "text/plain": [
       "[30, 31, 32, 33, 34, 35, 36, 37, 38, 39, 40, 41, 42, 43, 44, 45, 46]"
      ]
     },
     "execution_count": 2,
     "metadata": {},
     "output_type": "execute_result"
    }
   ],
   "source": [
    "list(range(30, 47))"
   ]
  }
 ],
 "metadata": {
  "kernelspec": {
   "display_name": "Python 3",
   "language": "python",
   "name": "python3"
  },
  "language_info": {
   "codemirror_mode": {
    "name": "ipython",
    "version": 3
   },
   "file_extension": ".py",
   "mimetype": "text/x-python",
   "name": "python",
   "nbconvert_exporter": "python",
   "pygments_lexer": "ipython3",
   "version": "3.7.4"
  }
 },
 "nbformat": 4,
 "nbformat_minor": 2
}
